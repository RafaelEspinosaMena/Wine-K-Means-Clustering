{
 "cells": [
  {
   "cell_type": "markdown",
   "id": "a39c712e",
   "metadata": {},
   "source": [
    "# Rafael Espinosa Mena\n",
    "rafaelespinosa4158@gmail.com\\\n",
    "May 2020\\\n",
    "Wine K-Means Clustering"
   ]
  },
  {
   "cell_type": "code",
   "execution_count": 1,
   "id": "34f724b2",
   "metadata": {},
   "outputs": [],
   "source": [
    "import pandas as pd\n",
    "from sklearn.preprocessing import Normalizer\n",
    "import matplotlib.pyplot as plt\n",
    "from sklearn.cluster import KMeans"
   ]
  },
  {
   "cell_type": "code",
   "execution_count": 2,
   "id": "1323d2a2",
   "metadata": {},
   "outputs": [
    {
     "name": "stdout",
     "output_type": "stream",
     "text": [
      "5) Full Data:\n",
      "       fixed.acidity  volatile.acidity  citric.acid  residual.sugar  chlorides  \\\n",
      "0               7.4             0.700         0.00             1.9      0.076   \n",
      "1               7.8             0.880         0.00             2.6      0.098   \n",
      "2               7.8             0.760         0.04             2.3      0.092   \n",
      "3              11.2             0.280         0.56             1.9      0.075   \n",
      "4               7.4             0.700         0.00             1.9      0.076   \n",
      "...             ...               ...          ...             ...        ...   \n",
      "1594            6.2             0.600         0.08             2.0      0.090   \n",
      "1595            5.9             0.550         0.10             2.2      0.062   \n",
      "1596            6.3             0.510         0.13             2.3      0.076   \n",
      "1597            5.9             0.645         0.12             2.0      0.075   \n",
      "1598            6.0             0.310         0.47             3.6      0.067   \n",
      "\n",
      "      free.sulfur.dioxide  total.sulfur.dioxide  density    pH  sulphates  \\\n",
      "0                    11.0                  34.0  0.99780  3.51       0.56   \n",
      "1                    25.0                  67.0  0.99680  3.20       0.68   \n",
      "2                    15.0                  54.0  0.99700  3.26       0.65   \n",
      "3                    17.0                  60.0  0.99800  3.16       0.58   \n",
      "4                    11.0                  34.0  0.99780  3.51       0.56   \n",
      "...                   ...                   ...      ...   ...        ...   \n",
      "1594                 32.0                  44.0  0.99490  3.45       0.58   \n",
      "1595                 39.0                  51.0  0.99512  3.52       0.76   \n",
      "1596                 29.0                  40.0  0.99574  3.42       0.75   \n",
      "1597                 32.0                  44.0  0.99547  3.57       0.71   \n",
      "1598                 18.0                  42.0  0.99549  3.39       0.66   \n",
      "\n",
      "      alcohol  \n",
      "0         9.4  \n",
      "1         9.8  \n",
      "2         9.8  \n",
      "3         9.8  \n",
      "4         9.4  \n",
      "...       ...  \n",
      "1594     10.5  \n",
      "1595     11.2  \n",
      "1596     11.0  \n",
      "1597     10.2  \n",
      "1598     11.0  \n",
      "\n",
      "[1599 rows x 11 columns]\n",
      "5) Quality:\n",
      "       quality\n",
      "0           5\n",
      "1           5\n",
      "2           5\n",
      "3           6\n",
      "4           5\n",
      "...       ...\n",
      "1594        5\n",
      "1595        6\n",
      "1596        6\n",
      "1597        5\n",
      "1598        6\n",
      "\n",
      "[1599 rows x 1 columns] \n",
      "\n"
     ]
    }
   ],
   "source": [
    "# Read dataset into dataframe\n",
    "df = pd.read_csv('wineQualityReds.csv')\n",
    "pd.set_option(\"display.max_columns\", None)\n",
    "\n",
    "# Drop \"wine\" from dataframe given it is not important for predictions\n",
    "df.drop(df.columns[0], axis = 1, inplace = True)\n",
    "\n",
    "# Extract Quality and store it as the target matrix\n",
    "qualityDf = df[['quality']]\n",
    "\n",
    "# Drop quality to create the predictor matrix\n",
    "df.drop('quality', axis=1, inplace=True)\n",
    "\n",
    "# Print dataframe and quality\n",
    "print(\"5) Full Data:\\n\", df)\n",
    "print(\"5) Quality:\\n\", qualityDf, \"\\n\")"
   ]
  },
  {
   "cell_type": "code",
   "execution_count": 3,
   "id": "a297a1d1",
   "metadata": {},
   "outputs": [
    {
     "name": "stdout",
     "output_type": "stream",
     "text": [
      "7) Normalized dataframe:\n",
      "       fixed.acidity  volatile.acidity  citric.acid  residual.sugar  chlorides  \\\n",
      "0          0.195153          0.018460     0.000000        0.050107   0.002004   \n",
      "1          0.107241          0.012099     0.000000        0.035747   0.001347   \n",
      "2          0.135457          0.013198     0.000695        0.039942   0.001598   \n",
      "3          0.174367          0.004359     0.008718        0.029580   0.001168   \n",
      "4          0.195153          0.018460     0.000000        0.050107   0.002004   \n",
      "...             ...               ...          ...             ...        ...   \n",
      "1594       0.110886          0.010731     0.001431        0.035770   0.001610   \n",
      "1595       0.089960          0.008386     0.001525        0.033544   0.000945   \n",
      "1596       0.123069          0.009963     0.002540        0.044930   0.001485   \n",
      "1597       0.105669          0.011552     0.002149        0.035820   0.001343   \n",
      "1598       0.125899          0.006505     0.009862        0.075540   0.001406   \n",
      "\n",
      "      free.sulfur.dioxide  total.sulfur.dioxide   density        pH  \\\n",
      "0                0.290092              0.896647  0.026314  0.092566   \n",
      "1                0.343722              0.921175  0.013705  0.043996   \n",
      "2                0.260494              0.937777  0.017314  0.056614   \n",
      "3                0.264664              0.934108  0.015537  0.049196   \n",
      "4                0.290092              0.896647  0.026314  0.092566   \n",
      "...                   ...                   ...       ...       ...   \n",
      "1594             0.572315              0.786933  0.017794  0.061703   \n",
      "1595             0.594650              0.777619  0.015173  0.053671   \n",
      "1596             0.566506              0.781388  0.019451  0.066809   \n",
      "1597             0.573119              0.788039  0.017829  0.063939   \n",
      "1598             0.377698              0.881296  0.020889  0.071133   \n",
      "\n",
      "      sulphates   alcohol  \n",
      "0      0.014768  0.247896  \n",
      "1      0.009349  0.134739  \n",
      "2      0.011288  0.170189  \n",
      "3      0.009030  0.152571  \n",
      "4      0.014768  0.247896  \n",
      "...         ...       ...  \n",
      "1594   0.010373  0.187791  \n",
      "1595   0.011588  0.170771  \n",
      "1596   0.014651  0.214882  \n",
      "1597   0.012716  0.182682  \n",
      "1598   0.013849  0.230816  \n",
      "\n",
      "[1599 rows x 11 columns]\n"
     ]
    },
    {
     "name": "stderr",
     "output_type": "stream",
     "text": [
      "/Users/rafaelespinosa/anaconda3/lib/python3.11/site-packages/sklearn/base.py:432: UserWarning: X has feature names, but Normalizer was fitted without feature names\n",
      "  warnings.warn(\n"
     ]
    }
   ],
   "source": [
    "# Normalize dataframe\n",
    "norm = Normalizer()\n",
    "df_norm = pd.DataFrame(norm.transform(df), columns=df.columns)\n",
    "\n",
    "# Print normalized dataframe\n",
    "print(\"7) Normalized dataframe:\\n\", df_norm)"
   ]
  },
  {
   "cell_type": "code",
   "execution_count": 4,
   "id": "a6128156",
   "metadata": {},
   "outputs": [
    {
     "data": {
      "image/png": "[encoded data removed]",
      "text/plain": [
       "<Figure size 640x480 with 1 Axes>"
      ]
     },
     "metadata": {},
     "output_type": "display_data"
    }
   ],
   "source": [
    "# Create a range of k values from 1:11\n",
    "ks = range(1, 11)\n",
    "inertias = []\n",
    "for k in ks:\n",
    "    model = KMeans(n_clusters=k, n_init=10)\n",
    "    model.fit(df_norm)\n",
    "    inertias.append(model.inertia_)\n",
    "    \n",
    "# Plot the chart for various k's\n",
    "plt.plot(ks, inertias, \"-o\")\n",
    "plt.xlabel(\"Number of Clusters, k\")\n",
    "plt.ylabel(\"Inertia\")\n",
    "plt.xticks(ks)\n",
    "plt.show()"
   ]
  },
  {
   "cell_type": "code",
   "execution_count": 5,
   "id": "badb1b12",
   "metadata": {},
   "outputs": [],
   "source": [
    "# 11) k clusters, using k=6\n",
    "model = KMeans(n_clusters = 6, random_state = 2021, n_init=10)\n",
    "model.fit(df_norm)\n",
    "labels = model.predict(df_norm)\n",
    "df_norm[\"Cluster label\"] = pd.Series(labels)"
   ]
  },
  {
   "cell_type": "code",
   "execution_count": 6,
   "id": "ddaa8270",
   "metadata": {},
   "outputs": [
    {
     "name": "stdout",
     "output_type": "stream",
     "text": [
      "13. Crosstab:\n",
      " Cluster label    0    1    2   3    4   5\n",
      "quality                                  \n",
      "3                3    1    2   3    0   1\n",
      "4                9    7    8  11    9   9\n",
      "5               87  118  114  40  255  67\n",
      "6              106  124  162  52   96  98\n",
      "7               44   24   36  39   12  44\n",
      "8                7    2    3   2    2   2\n"
     ]
    }
   ],
   "source": [
    "# Add quality back to the dataframe\n",
    "df_norm['quality'] = qualityDf\n",
    "\n",
    "# Print Crosstab\n",
    "cTab = pd.crosstab(index = df_norm['quality'], columns = df_norm['Cluster label'])\n",
    "print(\"13. Crosstab:\\n\", cTab)"
   ]
  },
  {
   "cell_type": "code",
   "execution_count": null,
   "id": "1d7944e8",
   "metadata": {},
   "outputs": [],
   "source": []
  }
 ],
 "metadata": {
  "kernelspec": {
   "display_name": "Python 3 (ipykernel)",
   "language": "python",
   "name": "python3"
  },
  "language_info": {
   "codemirror_mode": {
    "name": "ipython",
    "version": 3
   },
   "file_extension": ".py",
   "mimetype": "text/x-python",
   "name": "python",
   "nbconvert_exporter": "python",
   "pygments_lexer": "ipython3",
   "version": "3.11.3"
  }
 },
 "nbformat": 4,
 "nbformat_minor": 5
}
